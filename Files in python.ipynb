{
 "cells": [
  {
   "cell_type": "code",
   "execution_count": null,
   "id": "7d440b52",
   "metadata": {},
   "outputs": [],
   "source": [
    "File Handling in Python\n",
    "Python too supports file handling and allows users to handle files i.e., \n",
    "to read and write files,along with many other file handling options,\n",
    "to operate on files.\n",
    "like other concepts of Python, this concept here is also easy and short."
   ]
  },
  {
   "cell_type": "code",
   "execution_count": null,
   "id": "c1c36bf3",
   "metadata": {},
   "outputs": [],
   "source": [
    "Working of open() function\n",
    "\n",
    "Before performing any operation on the file like reading or writing,\n",
    "first, we have to open that file. For this, \n",
    "we should use Python’s inbuilt function open() but at the time of opening, \n",
    "we have to specify the mode, which represents the purpose of the opening file.\n",
    "\n",
    "f = open(filename, mode)\n",
    "\n",
    "Where the following mode is supported:\n",
    "\n",
    "r: open an existing file for a read operation.\n",
    "w: open an existing file for a write operation.\n",
    "    If the file already contains some data then it will be overridden.\n",
    "a:  open an existing file for append operation. It won’t override existing data.\n",
    "r+: To read and write data into the file.\n",
    "    The previous data in the file will be overridden.\n",
    "w+: To write and read data. It will override existing data.\n",
    "a+: To append and read data from the file. It won’t override existing data.\n",
    "\n"
   ]
  },
  {
   "cell_type": "code",
   "execution_count": 1,
   "id": "1a146ea1",
   "metadata": {},
   "outputs": [
    {
     "name": "stdout",
     "output_type": "stream",
     "text": [
      "hi hello... first line.\n",
      "\n"
     ]
    }
   ],
   "source": [
    "# a file named \"sample1.txt\", will be opened with the reading mode.\n",
    "file = open('D:\\Deepika M P\\PYTHON\\Files\\sample1.txt', 'r')\n",
    "# This will print every line one by one in the file\n",
    "for each in file:\n",
    "    print(each)"
   ]
  },
  {
   "cell_type": "code",
   "execution_count": 2,
   "id": "74618610",
   "metadata": {},
   "outputs": [
    {
     "name": "stdout",
     "output_type": "stream",
     "text": [
      "hi hello... first line.\n",
      "\n"
     ]
    }
   ],
   "source": [
    "# Python code to illustrate read() function\n",
    "file = open(\"D:\\Deepika M P\\PYTHON\\Files\\sample1.txt\", \"r\")\n",
    "print (file.read())"
   ]
  },
  {
   "cell_type": "code",
   "execution_count": 3,
   "id": "0acbef31",
   "metadata": {},
   "outputs": [
    {
     "name": "stdout",
     "output_type": "stream",
     "text": [
      "hi he\n"
     ]
    }
   ],
   "source": [
    "#Another way to read a file is to call a certain number of characters \n",
    "# Python code to illustrate read() mode character wise\n",
    "file = open(\"D:\\Deepika M P\\PYTHON\\Files\\sample1.txt\", \"r\")\n",
    "print (file.read(5))"
   ]
  },
  {
   "cell_type": "code",
   "execution_count": null,
   "id": "ae8394ab",
   "metadata": {},
   "outputs": [],
   "source": [
    "Creating a file using write() "
   ]
  },
  {
   "cell_type": "code",
   "execution_count": 4,
   "id": "6d432152",
   "metadata": {},
   "outputs": [],
   "source": [
    "# Python code to create a file\n",
    "file = open('D:\\Deepika M P\\PYTHON\\Files\\sample2.txt','w')\n",
    "file.write(\"This is the write command.\\n\")\n",
    "file.write(\"It allows us to write in a particular file.\\n\")\n",
    "file.close()\n",
    "\n",
    "#The close() command terminates all the resources in use \n",
    "#and frees the system of this particular program. "
   ]
  },
  {
   "cell_type": "code",
   "execution_count": 5,
   "id": "ffa5e4bf",
   "metadata": {},
   "outputs": [],
   "source": [
    "# Python code to illustrate append() mode\n",
    "file = open('D:\\Deepika M P\\PYTHON\\Files\\sample2.txt','a')\n",
    "file.write(\"This will add this line.\")\n",
    "file.close()"
   ]
  },
  {
   "cell_type": "code",
   "execution_count": 6,
   "id": "26787182",
   "metadata": {},
   "outputs": [
    {
     "name": "stdout",
     "output_type": "stream",
     "text": [
      "hi hello... first line.\n",
      "\n"
     ]
    }
   ],
   "source": [
    "# Python code to illustrate with statement\n",
    "with open(\"D:\\Deepika M P\\PYTHON\\Files\\sample1.txt\") as file: \n",
    "    data = file.read()\n",
    "# do something with data\n",
    "    print(data)"
   ]
  },
  {
   "cell_type": "code",
   "execution_count": 7,
   "id": "a47dd7f4",
   "metadata": {},
   "outputs": [
    {
     "name": "stdout",
     "output_type": "stream",
     "text": [
      "hi hello... first line.\n",
      "Hello World!!!\n"
     ]
    }
   ],
   "source": [
    " #Python code to illustrate with statement alongwith write()\n",
    "with open(\"D:\\Deepika M P\\PYTHON\\Files\\sample1.txt\", \"a\") as f:\n",
    "    f.write(\"Hello World!!!\")\n",
    "with open(\"D:\\Deepika M P\\PYTHON\\Files\\sample1.txt\") as file: \n",
    "    data = file.read()\n",
    "# do something with data\n",
    "    print(data)   "
   ]
  },
  {
   "cell_type": "code",
   "execution_count": 8,
   "id": "50d2cb95",
   "metadata": {},
   "outputs": [
    {
     "name": "stdout",
     "output_type": "stream",
     "text": [
      "['hi', 'hello...', 'first', 'line.']\n",
      "['Hello', 'World!!!']\n"
     ]
    }
   ],
   "source": [
    "# Python code to illustrate split() function\n",
    "#splits the variable when space is encountered\n",
    "with open(\"D:\\Deepika M P\\PYTHON\\Files\\sample1.txt\", \"r\") as file:\n",
    "    data = file.readlines()\n",
    "    for line in data:\n",
    "        word = line.split()\n",
    "        print (word)"
   ]
  },
  {
   "cell_type": "code",
   "execution_count": null,
   "id": "5f1289c4",
   "metadata": {},
   "outputs": [],
   "source": [
    "Reading and Writing Array Data on Files\n",
    "reading of the data contained within a file.\n",
    "writing of data on file.\n",
    "\n",
    "In data analysis, the analyst have to deal with large amounts of data collected\n",
    "within arrays.\n",
    "\n",
    "NumPy provides in this regard a set of functions that allow \n",
    "the data analyst to save the results of his calculations\n",
    "in a text or binary file. \n",
    "Similarly, NumPy allows reading and conversion of written data within\n",
    "a file into an array."
   ]
  },
  {
   "cell_type": "code",
   "execution_count": null,
   "id": "7e29553c",
   "metadata": {},
   "outputs": [],
   "source": [
    "Loading and Saving Data in Binary Files\n",
    "\n",
    "NumPy provides a pair of functions called save() and load()."
   ]
  },
  {
   "cell_type": "code",
   "execution_count": null,
   "id": "545f2f8d",
   "metadata": {},
   "outputs": [],
   "source": [
    "save()\n",
    "\n",
    "simply call the save() function, specifying as arguments the name of the file, \n",
    "to which .npy extension will be automatically added, and then the array itself."
   ]
  },
  {
   "cell_type": "code",
   "execution_count": 9,
   "id": "1abfd87a",
   "metadata": {},
   "outputs": [
    {
     "name": "stdout",
     "output_type": "stream",
     "text": [
      "[[0.86466285 0.76943895 0.22678279]\n",
      " [0.12452825 0.54751384 0.06499123]\n",
      " [0.06216566 0.85045125 0.92093862]\n",
      " [0.58401239 0.93455057 0.28972379]]\n"
     ]
    }
   ],
   "source": [
    "import numpy as np\n",
    "data= np.array([[ 0.86466285, 0.76943895, 0.22678279],\n",
    "[ 0.12452825, 0.54751384, 0.06499123],\n",
    "[ 0.06216566, 0.85045125, 0.92093862],\n",
    "[ 0.58401239, 0.93455057, 0.28972379]])\n",
    "np.save('saved_data',data)\n",
    "\n",
    "print(data)"
   ]
  },
  {
   "cell_type": "code",
   "execution_count": null,
   "id": "ecb0c68a",
   "metadata": {},
   "outputs": [],
   "source": [
    "load()\n",
    "\n",
    "To recover the data stored within a .npy file, you can use the load() function by\n",
    "specifying the file name as argument, this time adding the extension .npy."
   ]
  },
  {
   "cell_type": "code",
   "execution_count": 10,
   "id": "b5ad3f1e",
   "metadata": {},
   "outputs": [
    {
     "data": {
      "text/plain": [
       "array([[0.86466285, 0.76943895, 0.22678279],\n",
       "       [0.12452825, 0.54751384, 0.06499123],\n",
       "       [0.06216566, 0.85045125, 0.92093862],\n",
       "       [0.58401239, 0.93455057, 0.28972379]])"
      ]
     },
     "execution_count": 10,
     "metadata": {},
     "output_type": "execute_result"
    }
   ],
   "source": [
    "loaded_data = np.load('saved_data.npy')\n",
    "loaded_data"
   ]
  },
  {
   "cell_type": "code",
   "execution_count": null,
   "id": "e9229a44",
   "metadata": {},
   "outputs": [],
   "source": [
    "SAVE AN ARRAY TO A TEXT FILE\n",
    "\n",
    "savetxt()\n",
    "\n",
    "Call open(file, mode) with mode as \"w\" to open the file named file for writing.\n",
    "Use a for-loop to iterate through each row of the array.\n",
    "At each iteration, call numpy.savetxt(fname, X) to write the current row X to the opened file fname."
   ]
  },
  {
   "cell_type": "code",
   "execution_count": 11,
   "id": "58ee755f",
   "metadata": {},
   "outputs": [],
   "source": [
    "import numpy as np\n",
    "an_array = np.array([[ 1,2,3],[4,5,6]])\n",
    "a_file = open(\"D:\\Deepika M P\\PYTHON\\Files\\sample3.txt\", \"w\")\n",
    "for i in an_array:\n",
    "    np.savetxt(a_file, i)\n",
    "a_file.close()\n"
   ]
  },
  {
   "cell_type": "code",
   "execution_count": null,
   "id": "92395323",
   "metadata": {},
   "outputs": [],
   "source": [
    "READ FROM TEXT FILE TO ARRAY\n",
    "\n",
    "loadtxt()\n",
    "\n",
    "The resulting text file can be loaded back into an array. \n",
    "Call numpy.loadtxt(fname) to load the file named fname into an array"
   ]
  },
  {
   "cell_type": "code",
   "execution_count": 12,
   "id": "5e5dc920",
   "metadata": {},
   "outputs": [
    {
     "data": {
      "text/plain": [
       "array([[1., 2., 3.],\n",
       "       [4., 5., 6.]])"
      ]
     },
     "execution_count": 12,
     "metadata": {},
     "output_type": "execute_result"
    }
   ],
   "source": [
    "import numpy as np\n",
    "original_array = np.loadtxt(\"D:\\Deepika M P\\PYTHON\\Files\\sample3.txt\").reshape(2, 3)\n",
    "original_array"
   ]
  },
  {
   "cell_type": "code",
   "execution_count": null,
   "id": "d7de73c8",
   "metadata": {},
   "outputs": [],
   "source": [
    "Reading File with Tabular Data\n",
    "\n",
    "The data that you want to read or save are in textural format (TXT or CSV, for example).\n",
    "CSV (Comma-Separated Values) format, in which data are collected in a tabular form\n",
    "and where all values are separated from each other by commas.\n",
    "\n",
    "To be able to read your data in a text file and insert them into an array, \n",
    "NumPy provides a function called genfromtxt().\n",
    "\n",
    "The basic syntax of the NumPy genfromtxt function:\n",
    "\n",
    "numpy.genfromtxt(fname, dtype= ,  comments: , delimiter = , skiprows = , skip_header = , autostrip  =)\n",
    "\n",
    "\n",
    "numpy.genfromtxt represents the function which reads the input data or file \n",
    "which contains various data types into array format.\n",
    "\n",
    "fname is the filename of the input data or file we are passing through the genfromtxt function. \n",
    "It can be given in filename, list or path to read.\n",
    "\n",
    "dtype is the data type declaration when we want the output array of the genfromtxt function in \n",
    "that particular data type. \n",
    "If we declare the dtype as ‘None’ it will automatically generate data type depending on\n",
    "the values of that columns.\n",
    "\n",
    "comments it is used in indicating the starting characters in a line of the given input data.\n",
    "We can discard the values or characters that comes after our declared comment.\n",
    "\n",
    "delimiter its the string value we declared to split the input values.\n",
    "For csv file we give delimiter as ‘,’ (comma) to separate the values in the file.\n",
    "\n",
    "skiprows is used to skip a particular rows or a set of rows in the given input file.\n",
    "\n",
    "skip_header is used when we wanted to skip the starting rows or lines of the given input file.\n",
    "\n",
    "autostrip it can be declared to automatically remove the white spaces present in between the values\n",
    "in our data file.\n",
    "\n",
    "This function performs implicitly two loops:\n",
    "    the first reads a line at a time, and \n",
    "    the second separates and converts the values contained in it,\n",
    "    inserting the consecutive elements created specifically.\n",
    "    One positive aspect of this feature is that if within the file there are some missing data,\n",
    "    the function is able to handle them."
   ]
  },
  {
   "cell_type": "code",
   "execution_count": 15,
   "id": "17f2848d",
   "metadata": {},
   "outputs": [
    {
     "data": {
      "text/plain": [
       "array(['This is the write command.',\n",
       "       'It allows us to write in a particular file.',\n",
       "       'This will add this line.'], dtype='<U43')"
      ]
     },
     "execution_count": 15,
     "metadata": {},
     "output_type": "execute_result"
    }
   ],
   "source": [
    "import numpy as np\n",
    "inp_data = np.genfromtxt(\"D:\\Deepika M P\\PYTHON\\Files\\sample2.txt\",dtype=str, delimiter=\",\")\n",
    "inp_data"
   ]
  },
  {
   "cell_type": "code",
   "execution_count": 14,
   "id": "fbbf2bd6",
   "metadata": {},
   "outputs": [
    {
     "data": {
      "text/plain": [
       "array([[1, 1, 1, 1],\n",
       "       [2, 2, 2, 2],\n",
       "       [3, 3, 3, 3]])"
      ]
     },
     "execution_count": 14,
     "metadata": {},
     "output_type": "execute_result"
    }
   ],
   "source": [
    "import numpy as np\n",
    "inp_data = np.genfromtxt(\"D:\\Deepika M P\\PYTHON\\Files\\sample6.csv\",dtype=int, delimiter=\",\", skip_header=1)\n",
    "inp_data"
   ]
  },
  {
   "cell_type": "code",
   "execution_count": null,
   "id": "40d37212",
   "metadata": {},
   "outputs": [],
   "source": []
  }
 ],
 "metadata": {
  "kernelspec": {
   "display_name": "Python 3 (ipykernel)",
   "language": "python",
   "name": "python3"
  },
  "language_info": {
   "codemirror_mode": {
    "name": "ipython",
    "version": 3
   },
   "file_extension": ".py",
   "mimetype": "text/x-python",
   "name": "python",
   "nbconvert_exporter": "python",
   "pygments_lexer": "ipython3",
   "version": "3.9.7"
  }
 },
 "nbformat": 4,
 "nbformat_minor": 5
}
